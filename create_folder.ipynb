{
 "cells": [
  {
   "cell_type": "code",
   "execution_count": 1,
   "metadata": {},
   "outputs": [],
   "source": [
    "# import modules\n",
    "import pandas as pd\n",
    "import os\n",
    "from pathlib import Path\n",
    "import tkinter as tk\n",
    "from tkinter import filedialog\n",
    "import sys"
   ]
  },
  {
   "cell_type": "code",
   "execution_count": 2,
   "metadata": {},
   "outputs": [],
   "source": [
    "# Excelファイルのパス（適宜変更してください）\n",
    "#excel_path = Path(Path.cwd(), \"folder_name.xlsx\")\n",
    "\n",
    "def select_excel_file():\n",
    "    # ファイル選択ダイアログを開く\n",
    "    file_path = filedialog.askopenfilename(\n",
    "        title=\"エクセルファイルを選択してください\",\n",
    "        filetypes=((\"エクセルファイル\", \"*.xlsx;*.xls\"), (\"すべてのファイル\", \"*.*\"))\n",
    "    )\n",
    "    return file_path"
   ]
  },
  {
   "cell_type": "code",
   "execution_count": 7,
   "metadata": {},
   "outputs": [
    {
     "name": "stdout",
     "output_type": "stream",
     "text": [
      "エクセルファイルが選択されませんでした。プログラムを終了します。\n"
     ]
    },
    {
     "ename": "SystemExit",
     "evalue": "",
     "output_type": "error",
     "traceback": [
      "An exception has occurred, use %tb to see the full traceback.\n",
      "\u001b[1;31mSystemExit\u001b[0m\n"
     ]
    },
    {
     "name": "stderr",
     "output_type": "stream",
     "text": [
      "c:\\Users\\257805\\rye_folder\\myproject\\.venv\\Lib\\site-packages\\IPython\\core\\interactiveshell.py:3585: UserWarning: To exit: use 'exit', 'quit', or Ctrl-D.\n",
      "  warn(\"To exit: use 'exit', 'quit', or Ctrl-D.\", stacklevel=1)\n"
     ]
    }
   ],
   "source": [
    "def main():\n",
    "    # Tkinterのルートウィンドウを作成（非表示）\n",
    "    root = tk.Tk()\n",
    "    root.withdraw()\n",
    "\n",
    "    # エクセルファイルを選択\n",
    "    excel_file_path = select_excel_file()\n",
    "\n",
    "    # ファイルが選択されていない、またはエクセルファイルでない場合は終了\n",
    "    if not excel_file_path.endswith(('.xlsx', '.xls')):\n",
    "        sys.exit()\n",
    "\n",
    "    # エクセルファイルが正しく選択された場合の処理\n",
    "    # （ここにフォルダ作成などの処理を追加）\n",
    "    # データが含まれる列の名前（適宜変更してください）\n",
    "    column_name = 'new_folder_name'\n",
    "    # フォルダを作成する親ディレクトリのパス（適宜変更してください）\n",
    "    parent_directory = Path(Path.cwd(), \"trial_folder\")\n",
    "    # Excelファイルを読み込む\n",
    "    df = pd.read_excel(excel_file_path)\n",
    "        # 特定の列のデータでループ\n",
    "    for name in df[column_name]:\n",
    "        # 新しいフォルダのパスを作成\n",
    "        new_folder_path = os.path.join(parent_directory, str(name))\n",
    "        # 既に存在しない場合はフォルダを作成\n",
    "        if not os.path.exists(new_folder_path):\n",
    "            os.makedirs(new_folder_path)\n",
    "\n",
    "if __name__ == \"__main__\":\n",
    "    main()"
   ]
  },
  {
   "cell_type": "code",
   "execution_count": 42,
   "metadata": {},
   "outputs": [],
   "source": []
  },
  {
   "cell_type": "code",
   "execution_count": 39,
   "metadata": {},
   "outputs": [],
   "source": []
  },
  {
   "cell_type": "code",
   "execution_count": 44,
   "metadata": {},
   "outputs": [],
   "source": []
  }
 ],
 "metadata": {
  "kernelspec": {
   "display_name": ".venv",
   "language": "python",
   "name": "python3"
  },
  "language_info": {
   "codemirror_mode": {
    "name": "ipython",
    "version": 3
   },
   "file_extension": ".py",
   "mimetype": "text/x-python",
   "name": "python",
   "nbconvert_exporter": "python",
   "pygments_lexer": "ipython3",
   "version": "3.12.2"
  }
 },
 "nbformat": 4,
 "nbformat_minor": 2
}

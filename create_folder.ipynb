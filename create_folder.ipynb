{
 "cells": [
  {
   "cell_type": "code",
   "execution_count": 1,
   "metadata": {},
   "outputs": [],
   "source": [
    "# import modules\n",
    "import pandas as pd\n",
    "import os\n",
    "from pathlib import Path\n",
    "import tkinter as tk\n",
    "from tkinter import filedialog\n",
    "import sys"
   ]
  },
  {
   "cell_type": "code",
   "execution_count": 2,
   "metadata": {},
   "outputs": [],
   "source": [
    "# Excelファイルのパス（適宜変更してください）\n",
    "#excel_path = Path(Path.cwd(), \"folder_name.xlsx\")\n",
    "\n",
    "def select_excel_file():\n",
    "    # ファイル選択ダイアログを開く\n",
    "    file_path = filedialog.askopenfilename(\n",
    "        title=\"エクセルファイルを選択してください\",\n",
    "        filetypes=((\"エクセルファイル\", \"*.xlsx;*.xls\"), (\"すべてのファイル\", \"*.*\"))\n",
    "    )\n",
    "    return file_path"
   ]
  },
  {
   "cell_type": "code",
   "execution_count": 7,
   "metadata": {},
   "outputs": [
    {
     "name": "stdout",
     "output_type": "stream",
     "text": [
      "エクセルファイルが選択されませんでした。プログラムを終了します。\n"
     ]
    },
    {
     "ename": "SystemExit",
     "evalue": "",
     "output_type": "error",
     "traceback": [
      "An exception has occurred, use %tb to see the full traceback.\n",
      "\u001b[1;31mSystemExit\u001b[0m\n"
     ]
    },
    {
     "name": "stderr",
     "output_type": "stream",
     "text": [
      "c:\\Users\\257805\\rye_folder\\myproject\\.venv\\Lib\\site-packages\\IPython\\core\\interactiveshell.py:3585: UserWarning: To exit: use 'exit', 'quit', or Ctrl-D.\n",
      "  warn(\"To exit: use 'exit', 'quit', or Ctrl-D.\", stacklevel=1)\n"
     ]
    }
   ],
   "source": [
    "def main():\n",
    "    # Tkinterのルートウィンドウを作成（非表示）\n",
    "    root = tk.Tk()\n",
    "    root.withdraw()\n",
    "\n",
    "    # エクセルファイルを選択\n",
    "    excel_file_path = select_excel_file()\n",
    "\n",
    "    # ファイルが選択されていない、またはエクセルファイルでない場合は終了\n",
    "    if not excel_file_path.endswith(('.xlsx', '.xls')):\n",
    "        sys.exit()\n",
    "\n",
    "    # エクセルファイルが正しく選択された場合の処理\n",
    "    # （ここにフォルダ作成などの処理を追加）\n",
    "    # データが含まれる列の名前（適宜変更してください）\n",
    "    column_name = 'new_folder_name'\n",
    "    # フォルダを作成する親ディレクトリのパス（適宜変更してください）\n",
    "    parent_directory = Path(Path.cwd(), \"trial_folder\")\n",
    "    # Excelファイルを読み込む\n",
    "    df = pd.read_excel(excel_file_path)\n",
    "        # 特定の列のデータでループ\n",
    "    for name in df[column_name]:\n",
    "        # 新しいフォルダのパスを作成\n",
    "        new_folder_path = os.path.join(parent_directory, str(name))\n",
    "        # 既に存在しない場合はフォルダを作成\n",
    "        if not os.path.exists(new_folder_path):\n",
    "            os.makedirs(new_folder_path)\n",
    "\n",
    "if __name__ == \"__main__\":\n",
    "    main()"
   ]
  },
  {
   "cell_type": "code",
   "execution_count": 23,
   "metadata": {},
   "outputs": [],
   "source": [
    "import tkinter as tk\n",
    "from tkinter import filedialog, messagebox\n",
    "import pandas as pd\n",
    "from pathlib import Path\n",
    "import sys\n",
    "\n",
    "#エクセルのパスを入力する関数\n",
    "def select_excel_file():\n",
    "    # ファイル選択ダイアログを開く\n",
    "    file_path = filedialog.askopenfilename(\n",
    "        title=\"エクセルファイルを選択してください\",\n",
    "        filetypes=((\"エクセルファイル\", \"*.xlsx;*.xls\"), (\"すべてのファイル\", \"*.*\"))\n",
    "    )\n",
    "    return file_path\n",
    "\n",
    "def select_parent_directory():\n",
    "    # フォルダ選択ダイアログを開く\n",
    "    directory_path = filedialog.askdirectory(\n",
    "        title=\"親ディレクトリを選択してください\"\n",
    "    )\n",
    "    return directory_path+\"/created_folder\"\n",
    "\n",
    "#フォルダ作る関数\n",
    "def create_folders(column_name, excel_file_path, parent_directory_path):\n",
    "    # フォルダを作成する親ディレクトリのパス（適宜変更してください）\n",
    "    parent_directory = Path(parent_directory_path)\n",
    "    # Excelファイルを読み込む\n",
    "    df = pd.read_excel(excel_file_path)\n",
    "\n",
    "      # 入力された列名がデータフレーム内に存在するかチェック\n",
    "    if column_name not in df.columns:\n",
    "        messagebox.showerror(\"エラー\", f\"'{column_name}' という名前の列は存在しません。\")\n",
    "        return\n",
    "\n",
    "    # 特定の列のデータでループ\n",
    "    for name in df[column_name]:\n",
    "        #フォルダ名に使用不可能な記号を_に置き換える.\n",
    "        safe_name = str(name)\n",
    "        for char in '<>:\"/\\\\|?*':\n",
    "            safe_name = safe_name.replace(char, '_')\n",
    "        # 新しいフォルダのパスを作成\n",
    "        new_folder_path = parent_directory / safe_name\n",
    "        # 既に存在しない場合はフォルダを作成\n",
    "        if not new_folder_path.exists():\n",
    "            new_folder_path.mkdir(parents=True)\n",
    "\n",
    "# ここで列名入力+列のフォルダ生成関数を実行. 空欄の場合エラー\n",
    "def on_submit():\n",
    "    column_name = column_name_entry.get()\n",
    "    if column_name:\n",
    "        create_folders(column_name, excel_file_path, parent_directory_path)\n",
    "        root.destroy()\n",
    "    else:\n",
    "        messagebox.showerror(\"エラー\",\"入力されていません。\")\n",
    "        #root.destroy()\n",
    "\n",
    "# エクセルファイルを選択\n",
    "excel_file_path = select_excel_file()\n",
    "\n",
    "# ファイルが選択されていない、またはエクセルファイルでない場合は終了\n",
    "if not excel_file_path.endswith(('.xlsx', '.xls')):\n",
    "    print(\"エクセルファイルが選択されませんでした。プログラムを終了します。\")\n",
    "    sys.exit()\n",
    "\n",
    "# 親ディレクトリを選択\n",
    "parent_directory_path = select_parent_directory()\n",
    "\n",
    "# ルートウィンドウの設定\n",
    "root = tk.Tk()\n",
    "root.title(\"列名入力\")\n",
    "root.geometry('400x200')\n",
    "root.maxsize(400, 200)\n",
    "root.attributes('-alpha',0.8)\n",
    "\n",
    "# テキスト入力フィールドの設定\n",
    "column_name_label = tk.Label(root, text=\"列名:\")\n",
    "column_name_label.pack() #ラベル配置\n",
    "column_name_entry = tk.Entry(root)\n",
    "column_name_entry.pack() #記入欄配置\n",
    "\n",
    "# ボタンの設定\n",
    "submit_button = tk.Button(root, text=\"送信\", command=on_submit)\n",
    "submit_button.pack() # ボタン配置\n",
    "\n",
    "# エンターキーでsubmit_buttonをアクティブにする\n",
    "submit_button.focus_set()\n",
    "submit_button.bind('<Return>', lambda event: on_submit())\n",
    "\n",
    "root.mainloop()\n"
   ]
  },
  {
   "cell_type": "code",
   "execution_count": null,
   "metadata": {},
   "outputs": [],
   "source": []
  }
 ],
 "metadata": {
  "kernelspec": {
   "display_name": ".venv",
   "language": "python",
   "name": "python3"
  },
  "language_info": {
   "codemirror_mode": {
    "name": "ipython",
    "version": 3
   },
   "file_extension": ".py",
   "mimetype": "text/x-python",
   "name": "python",
   "nbconvert_exporter": "python",
   "pygments_lexer": "ipython3",
   "version": "3.12.2"
  }
 },
 "nbformat": 4,
 "nbformat_minor": 2
}
